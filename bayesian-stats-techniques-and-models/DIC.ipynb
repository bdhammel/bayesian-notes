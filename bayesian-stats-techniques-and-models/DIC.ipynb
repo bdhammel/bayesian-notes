{
 "cells": [
  {
   "cell_type": "markdown",
   "metadata": {},
   "source": [
    "# Deviance information criterion (DIC)\n",
    "\n",
    "https://www.rdocumentation.org/packages/SpatialExtremes/versions/2.0-7.2/topics/DIC\n",
    "\n",
    "More information than you care to know here:  \n",
    "https://pdfs.semanticscholar.org/cb82/02c3189cce0908a721e59f049438db8654c2.pdf"
   ]
  },
  {
   "cell_type": "code",
   "execution_count": 1,
   "metadata": {},
   "outputs": [],
   "source": [
    "from jax import random\n",
    "import jax.numpy as np\n",
    "import numpy as onp\n",
    "\n",
    "import numpyro\n",
    "import numpyro.distributions as dist\n",
    "from numpyro.infer import MCMC, NUTS\n",
    "\n",
    "num_warmup, num_samples = 1000, 5000\n",
    "rng_key = random.PRNGKey(0)\n",
    "rng_key, rng_key_ = random.split(rng_key)\n",
    "numpyro.set_host_device_count(3)\n",
    "numpyro.enable_validation()"
   ]
  },
  {
   "cell_type": "markdown",
   "metadata": {},
   "source": [
    "## Define two models "
   ]
  },
  {
   "cell_type": "code",
   "execution_count": 2,
   "metadata": {},
   "outputs": [],
   "source": [
    "x = np.linspace(-1, 1)\n",
    "t = 2.5 * x + onp.random.normal(loc=0, scale=.5, size=len(x))"
   ]
  },
  {
   "cell_type": "code",
   "execution_count": 3,
   "metadata": {},
   "outputs": [
    {
     "data": {
      "text/plain": [
       "[<matplotlib.lines.Line2D at 0x12891a8d0>]"
      ]
     },
     "execution_count": 3,
     "metadata": {},
     "output_type": "execute_result"
    },
    {
     "data": {
      "image/png": "[encoded data removed]",
      "text/plain": [
       "<Figure size 432x288 with 1 Axes>"
      ]
     },
     "metadata": {
      "needs_background": "light"
     },
     "output_type": "display_data"
    }
   ],
   "source": [
    "plt.plot(x, t, '.')"
   ]
  },
  {
   "cell_type": "code",
   "execution_count": 4,
   "metadata": {},
   "outputs": [
    {
     "name": "stderr",
     "output_type": "stream",
     "text": [
      "/Users/benhammel/Documents/projects/bayesian-stats-classes/venv/lib/python3.6/site-packages/numpyro/infer/mcmc.py:630: UserWarning: There are not enough devices to run parallel chains: expected 3 but got 1. Chains will be drawn sequentially. If you are running MCMC in CPU, consider to use `numpyro.set_host_device_count(3)` at the beginning of your program.\n",
      "  .format(self.num_chains, xla_bridge.device_count(), self.num_chains))\n"
     ]
    },
    {
     "name": "stdout",
     "output_type": "stream",
     "text": [
      "\n",
      "                mean       std    median      5.0%     95.0%     n_eff     r_hat\n",
      "         m      2.49      0.13      2.49      2.29      2.70  12478.56      1.00\n",
      "       std      0.52      0.06      0.52      0.43      0.61  11553.16      1.00\n",
      "\n",
      "Number of divergences: 0\n"
     ]
    }
   ],
   "source": [
    "def model1_fn(x, t):\n",
    "    m = numpyro.sample('m', dist.Normal(0, 1e6))\n",
    "    # std = numpyro.sample('std', dist.InverseGamma(2.5, 2.5 * 10))\n",
    "    std = numpyro.sample('std', dist.Exponential(1))\n",
    "\n",
    "    y = m * x\n",
    "    numpyro.sample('y', dist.Normal(y, std), obs=t)\n",
    "\n",
    "kernel = NUTS(model1_fn)\n",
    "model1 = MCMC(kernel, num_warmup, num_samples, num_chains=3)\n",
    "model1.run(rng_key, collect_warmup=False, x=x, t=t)\n",
    "samples1 = model1.get_samples()\n",
    "model1.print_summary() "
   ]
  },
  {
   "cell_type": "code",
   "execution_count": 5,
   "metadata": {},
   "outputs": [
    {
     "name": "stdout",
     "output_type": "stream",
     "text": [
      "\n",
      "                mean       std    median      5.0%     95.0%     n_eff     r_hat\n",
      "        m1      1.82      0.30      1.83      1.36      2.33   5798.47      1.00\n",
      "        m2      1.06      0.44      1.06      0.36      1.80   5682.40      1.00\n",
      "       std      0.50      0.05      0.49      0.42      0.58   6681.15      1.00\n",
      "\n",
      "Number of divergences: 0\n"
     ]
    }
   ],
   "source": [
    "def model2_fn(x, t):\n",
    "    m1 = numpyro.sample('m1', dist.Normal(0, 1e6))\n",
    "    m2 = numpyro.sample('m2', dist.Normal(0, 1e6))\n",
    "    # std = numpyro.sample('std', dist.InverseGamma(2.5, 2.5 * 10))\n",
    "    std = numpyro.sample('std', dist.Exponential(1))\n",
    "    \n",
    "    y = m1 * x + m2 * x**3\n",
    "    numpyro.sample('y', dist.Normal(y, std), obs=t)\n",
    "\n",
    "kernel = NUTS(model2_fn)\n",
    "model2 = MCMC(kernel, num_warmup, num_samples, num_chains=3)\n",
    "model2.run(rng_key, collect_warmup=False, x=x, t=t)\n",
    "samples2 = model2.get_samples()\n",
    "model2.print_summary() "
   ]
  },
  {
   "cell_type": "markdown",
   "metadata": {},
   "source": [
    "## DIC\n",
    "\n",
    "The deviance is\n",
    "\n",
    "$$\n",
    "D(\\theta) = -2 \\log \\pi(Y \\mid \\theta),\n",
    "$$\n",
    "\n",
    "where $y$ are the data, $\\theta$ are the unknown parameters of the models and $\\pi(Y|\\theta)$ is the likelihood function. \n",
    "\n",
    "where \n",
    "\n",
    "$$\n",
    "\\pi(Y|\\theta) = \\prod_i^n \\pi(y_i|\\theta)\n",
    "$$\n",
    "\n",
    "and\n",
    "\n",
    "$$\n",
    "\\log \\pi(Y|\\theta) = \\sum_i^n \\log \\pi(y_i|\\theta)\n",
    "$$\n",
    "\n",
    "for $n$ data points.\n",
    "\n",
    "Thus the expected deviance, a measure of how well the model fits the data, is given by\n",
    "\n",
    "$$\n",
    "\\overline{D} = {\\rm E}_{\\theta}[D(\\theta)],\n",
    "$$\n",
    "\n",
    "while the effective number of parameters is\n",
    "\n",
    "$$\n",
    "p_D = \\overline{D} - D(\\theta^*),\n",
    "$$\n",
    "\n",
    "where $\\theta^*$ is point estimate of the posterior distribution, e.g., the posterior mean. Finally the DIC is given by\n",
    "\n",
    "$$\n",
    "{\\rm DIC} = p_D + \\overline{D}.\n",
    "$$\n",
    "\n",
    "\n",
    "**Note**: This gets approximatly the correct answer, but isn't actually correct. Correct derivation is located below in the link"
   ]
  },
  {
   "cell_type": "code",
   "execution_count": 6,
   "metadata": {},
   "outputs": [],
   "source": [
    "def dic(model_fn, samples, **kwargs):\n",
    "    pi_theta = numpyro.infer.log_likelihood(model_fn, samples, **kwargs)['y'].sum(axis=1)\n",
    "    # p = get_theta_prob(samples)\n",
    "    D_bar = -2 * pi_theta.mean() # np.sum(pi_theta * p)\n",
    "    theta_star = {k: v.mean(keepdims=True) for k, v in samples.items()}\n",
    "    pi_theta_star = numpyro.infer.log_likelihood(model_fn, theta_star, **kwargs)['y'].sum()\n",
    "    D_theta_star = -2 * pi_theta_star\n",
    "    print('expected deviance:', D_bar)\n",
    "    print('effective number of parameters:', D_bar - D_theta_star)\n",
    "    print('DIC:', D_bar - D_theta_star + D_bar)"
   ]
  },
  {
   "cell_type": "code",
   "execution_count": 7,
   "metadata": {},
   "outputs": [
    {
     "name": "stdout",
     "output_type": "stream",
     "text": [
      "expected deviance: 76.3118\n",
      "effective number of parameters: 1.9810944\n",
      "DIC: 78.29289\n"
     ]
    }
   ],
   "source": [
    "dic(model1_fn, samples1, x=x, t=t)"
   ]
  },
  {
   "cell_type": "code",
   "execution_count": 8,
   "metadata": {},
   "outputs": [
    {
     "name": "stdout",
     "output_type": "stream",
     "text": [
      "expected deviance: 71.40388\n",
      "effective number of parameters: 2.9178925\n",
      "DIC: 74.32177\n"
     ]
    }
   ],
   "source": [
    "dic(model2_fn, samples2, x=x, t=t)"
   ]
  },
  {
   "cell_type": "markdown",
   "metadata": {},
   "source": [
    "models with smaller DIC should be preferred to models with larger DIC. Roughly speaking, differences of more than 10 might rule out the model with the higher DIC, differences between 5 and 10 are substantial."
   ]
  },
  {
   "cell_type": "markdown",
   "metadata": {},
   "source": [
    "## Alternative calculation of DIC\n",
    "\n",
    "I am not confident that $E_\\theta[D(\\theta)]$ works out to be the mean of $\\log \\pi(Y|\\theta)$.\n",
    "\n",
    "Strictly speaking _i think_ this should be:\n",
    "\n",
    "$$\n",
    "E_\\theta[D(\\theta)] = \\int \\log \\pi(Y|\\theta) P(\\log \\pi(Y|\\theta)) d\\theta\n",
    "$$\n",
    "\n",
    "I'm not really sure what, $P(\\log \\pi(Y|\\theta))$, the probability of the log liklihood, would work out to be.\n",
    "\n",
    "$$\n",
    "E_\\theta[D(\\theta)] = \\int \\log \\pi(Y|\\theta) P(\\theta) d\\theta\n",
    "$$\n",
    "\n",
    "Makes a little more intuitive sense to me. i.e. What is the log liklihood weighted by the probability of the selected parameter.\n",
    "\n",
    "However, I believe this would evaluate to \n",
    "\n",
    "$$\n",
    "E_\\theta[D(\\theta)] = \\int \\log \\pi(Y|\\theta) \\prod_i P(\\theta_i) d\\theta_i\n",
    "$$\n",
    "\n",
    "If we calculate this, $\\prod_i P(\\theta_i)$ ends up being an exceptionally small number for any of the $\\theta$ combinations we pull\n",
    "\n",
    "\n",
    "**Update**: Correct derivation is here\n",
    "\n",
    "[J. R. Statist. Soc.B (2002)64, Part4, pp.583–639](https://rss.onlinelibrary.wiley.com/doi/epdf/10.1111/1467-9868.00353)"
   ]
  },
  {
   "cell_type": "code",
   "execution_count": 9,
   "metadata": {},
   "outputs": [],
   "source": [
    "def get_theta_prob(samples):\n",
    "    p_thetas = []\n",
    "    for theta_name, theta_samples in samples.items():\n",
    "        theta_dist = dist.Normal(loc=theta_samples.mean(), scale=theta_samples.std())\n",
    "        theta_pdf_values = np.exp(theta_dist.log_prob(theta_samples))\n",
    "        p_theta = theta_pdf_values / theta_pdf_values.sum()  # the values should integrate to 1\n",
    "        p_thetas.append(p_theta)\n",
    "    joint_p = np.prod(p_thetas, axis=0)  # P(theta) = p(theta_1)p(theta_2)...p(theta_n)\n",
    "    return joint_p"
   ]
  },
  {
   "cell_type": "code",
   "execution_count": 10,
   "metadata": {},
   "outputs": [],
   "source": [
    "m2_dist = dist.Normal(loc=model2._states['z']['m2'].mean(), scale=model2._states['z']['m2'].std())\n",
    "p_m2 = np.exp(m2_dist.log_prob(samples2['m2']))"
   ]
  },
  {
   "cell_type": "code",
   "execution_count": 11,
   "metadata": {},
   "outputs": [],
   "source": [
    "m2_dist = dist.Normal(loc=model2._states['z']['std'].mean(), scale=model2._states['z']['std'].std())\n",
    "p_m2 = np.exp(m2_dist.log_prob(samples2['std']))"
   ]
  },
  {
   "cell_type": "markdown",
   "metadata": {},
   "source": [
    "## MIS"
   ]
  },
  {
   "cell_type": "code",
   "execution_count": 12,
   "metadata": {},
   "outputs": [],
   "source": [
    "from scipy.stats import norm"
   ]
  },
  {
   "cell_type": "code",
   "execution_count": 13,
   "metadata": {},
   "outputs": [],
   "source": [
    "m_mean = samples1['m'].mean()\n",
    "m_std = samples1['m'].std()\n",
    "\n",
    "std_mean = samples1['std'].mean()\n",
    "std_std = samples1['std'].std()"
   ]
  },
  {
   "cell_type": "code",
   "execution_count": 14,
   "metadata": {},
   "outputs": [],
   "source": [
    "p_values = norm(m_mean, m_std).pdf(samples1['m'])\n",
    "p = p_values / p_values.sum()"
   ]
  },
  {
   "cell_type": "code",
   "execution_count": 15,
   "metadata": {},
   "outputs": [
    {
     "name": "stdout",
     "output_type": "stream",
     "text": [
      "1.0\n"
     ]
    },
    {
     "data": {
      "image/png": "[encoded data removed]",
      "text/plain": [
       "<Figure size 432x288 with 1 Axes>"
      ]
     },
     "metadata": {
      "needs_background": "light"
     },
     "output_type": "display_data"
    }
   ],
   "source": [
    "_p = np.diff(np.linspace(0, 5)).mean() * norm(m_mean, m_std).pdf(np.linspace(0, 5))\n",
    "plt.plot(np.linspace(0, 5), _p)\n",
    "print(p.sum())"
   ]
  },
  {
   "cell_type": "code",
   "execution_count": 16,
   "metadata": {},
   "outputs": [
    {
     "data": {
      "text/plain": [
       "[<matplotlib.lines.Line2D at 0x1484dee48>]"
      ]
     },
     "execution_count": 16,
     "metadata": {},
     "output_type": "execute_result"
    },
    {
     "data": {
      "image/png": "[encoded data removed]",
      "text/plain": [
       "<Figure size 432x288 with 1 Axes>"
      ]
     },
     "metadata": {
      "needs_background": "light"
     },
     "output_type": "display_data"
    }
   ],
   "source": [
    "plt.plot(samples1['m'], p, '.')"
   ]
  },
  {
   "cell_type": "code",
   "execution_count": 17,
   "metadata": {},
   "outputs": [],
   "source": [
    "E_m = np.sum(samples1['m'] * p)"
   ]
  },
  {
   "cell_type": "code",
   "execution_count": 18,
   "metadata": {},
   "outputs": [
    {
     "data": {
      "text/plain": [
       "DeviceArray(2.487682, dtype=float32)"
      ]
     },
     "execution_count": 18,
     "metadata": {},
     "output_type": "execute_result"
    }
   ],
   "source": [
    "E_m"
   ]
  },
  {
   "cell_type": "code",
   "execution_count": 19,
   "metadata": {},
   "outputs": [],
   "source": [
    "samples = samples1"
   ]
  },
  {
   "cell_type": "code",
   "execution_count": 20,
   "metadata": {},
   "outputs": [],
   "source": [
    "p_thetas = []\n",
    "for theta_name, theta_samples in samples.items():\n",
    "    theta_dist = dist.Normal(loc=theta_samples.mean(), scale=theta_samples.std())\n",
    "    theta_pdf_values = np.exp(theta_dist.log_prob(theta_samples))\n",
    "    p_theta = theta_pdf_values / theta_pdf_values.sum()\n",
    "    p_thetas.append(p_theta)\n",
    "joint_p = np.prod(p_thetas, axis=0)"
   ]
  },
  {
   "cell_type": "code",
   "execution_count": 21,
   "metadata": {},
   "outputs": [
    {
     "data": {
      "text/plain": [
       "DeviceArray(8.783015e-09, dtype=float32)"
      ]
     },
     "execution_count": 21,
     "metadata": {},
     "output_type": "execute_result"
    }
   ],
   "source": [
    "joint_p.max()"
   ]
  },
  {
   "cell_type": "code",
   "execution_count": null,
   "metadata": {},
   "outputs": [],
   "source": [
    "\n"
   ]
  }
 ],
 "metadata": {
  "kernelspec": {
   "display_name": "Python 3",
   "language": "python",
   "name": "python3"
  },
  "language_info": {
   "codemirror_mode": {
    "name": "ipython",
    "version": 3
   },
   "file_extension": ".py",
   "mimetype": "text/x-python",
   "name": "python",
   "nbconvert_exporter": "python",
   "pygments_lexer": "ipython3",
   "version": "3.6.8"
  }
 },
 "nbformat": 4,
 "nbformat_minor": 2
}
