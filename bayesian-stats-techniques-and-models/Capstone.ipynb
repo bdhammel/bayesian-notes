{
 "cells": [
  {
   "attachments": {},
   "cell_type": "markdown",
   "metadata": {},
   "source": [
    "# Predicting the Truckee River Flow\n",
    "\n",
    "https://images.fineartamerica.com/images/artworkimages/mediumlarge/1/fall-on-the-truckee-river-vance-fox.jpg![image.png](attachment:image.png)\n",
    "\n",
    "\n",
    "The Truckee River relies on snow that falls in the Sierra Nevada during the winter months, and natural run-off combined with releases of water from Lake Tahoe and other reservoirs during the summer months to maintain flows that support water consumption needs.\n",
    "\n",
    "https://tmwa.com/images/riversystem_map.gif![image.png](attachment:image.png)"
   ]
  },
  {
   "cell_type": "markdown",
   "metadata": {},
   "source": [
    "## Collecting data"
   ]
  },
  {
   "cell_type": "code",
   "execution_count": null,
   "metadata": {},
   "outputs": [],
   "source": []
  }
 ],
 "metadata": {
  "kernelspec": {
   "display_name": "Python 3",
   "language": "python",
   "name": "python3"
  },
  "language_info": {
   "codemirror_mode": {
    "name": "ipython",
    "version": 3
   },
   "file_extension": ".py",
   "mimetype": "text/x-python",
   "name": "python",
   "nbconvert_exporter": "python",
   "pygments_lexer": "ipython3",
   "version": "3.6.8"
  }
 },
 "nbformat": 4,
 "nbformat_minor": 2
}
