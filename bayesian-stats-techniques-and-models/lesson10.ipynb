{
 "cells": [
  {
   "cell_type": "code",
   "execution_count": 1,
   "metadata": {},
   "outputs": [],
   "source": [
    "import statsmodels.api as sm\n",
    "import statsmodels.formula.api as smf\n",
    "import seaborn as sns\n",
    "import pandas as pd\n",
    "import numpy as onp"
   ]
  },
  {
   "cell_type": "markdown",
   "metadata": {},
   "source": [
    "# Data Exploration"
   ]
  },
  {
   "cell_type": "code",
   "execution_count": 2,
   "metadata": {},
   "outputs": [
    {
     "name": "stderr",
     "output_type": "stream",
     "text": [
      "/Users/benhammel/Documents/projects/bayesian-stats-classes/venv/lib/python3.6/site-packages/statsmodels/datasets/utils.py:192: FutureWarning: `item` has been deprecated and will be removed in a future version\n",
      "  return dataset_meta[\"Title\"].item()\n"
     ]
    }
   ],
   "source": [
    "df = sm.datasets.get_rdataset('badhealth', package='COUNT').data"
   ]
  },
  {
   "cell_type": "code",
   "execution_count": 3,
   "metadata": {},
   "outputs": [
    {
     "data": {
      "text/html": [
       "<div>\n",
       "<style scoped>\n",
       "    .dataframe tbody tr th:only-of-type {\n",
       "        vertical-align: middle;\n",
       "    }\n",
       "\n",
       "    .dataframe tbody tr th {\n",
       "        vertical-align: top;\n",
       "    }\n",
       "\n",
       "    .dataframe thead th {\n",
       "        text-align: right;\n",
       "    }\n",
       "</style>\n",
       "<table border=\"1\" class=\"dataframe\">\n",
       "  <thead>\n",
       "    <tr style=\"text-align: right;\">\n",
       "      <th></th>\n",
       "      <th>numvisit</th>\n",
       "      <th>badh</th>\n",
       "      <th>age</th>\n",
       "    </tr>\n",
       "  </thead>\n",
       "  <tbody>\n",
       "    <tr>\n",
       "      <th>0</th>\n",
       "      <td>30</td>\n",
       "      <td>0</td>\n",
       "      <td>58</td>\n",
       "    </tr>\n",
       "    <tr>\n",
       "      <th>1</th>\n",
       "      <td>20</td>\n",
       "      <td>0</td>\n",
       "      <td>54</td>\n",
       "    </tr>\n",
       "    <tr>\n",
       "      <th>2</th>\n",
       "      <td>16</td>\n",
       "      <td>0</td>\n",
       "      <td>44</td>\n",
       "    </tr>\n",
       "    <tr>\n",
       "      <th>3</th>\n",
       "      <td>20</td>\n",
       "      <td>0</td>\n",
       "      <td>57</td>\n",
       "    </tr>\n",
       "    <tr>\n",
       "      <th>4</th>\n",
       "      <td>15</td>\n",
       "      <td>0</td>\n",
       "      <td>33</td>\n",
       "    </tr>\n",
       "  </tbody>\n",
       "</table>\n",
       "</div>"
      ],
      "text/plain": [
       "   numvisit  badh  age\n",
       "0        30     0   58\n",
       "1        20     0   54\n",
       "2        16     0   44\n",
       "3        20     0   57\n",
       "4        15     0   33"
      ]
     },
     "execution_count": 3,
     "metadata": {},
     "output_type": "execute_result"
    }
   ],
   "source": [
    "df.head()"
   ]
  },
  {
   "cell_type": "code",
   "execution_count": 4,
   "metadata": {},
   "outputs": [
    {
     "data": {
      "text/plain": [
       "numvisit    False\n",
       "badh        False\n",
       "age         False\n",
       "dtype: bool"
      ]
     },
     "execution_count": 4,
     "metadata": {},
     "output_type": "execute_result"
    }
   ],
   "source": [
    "df.isna().any()"
   ]
  },
  {
   "cell_type": "code",
   "execution_count": 5,
   "metadata": {},
   "outputs": [
    {
     "data": {
      "text/plain": [
       "<matplotlib.axes._subplots.AxesSubplot at 0x11eeb17b8>"
      ]
     },
     "execution_count": 5,
     "metadata": {},
     "output_type": "execute_result"
    },
    {
     "data": {
      "image/png": "[encoded data removed]",
      "text/plain": [
       "<Figure size 432x288 with 1 Axes>"
      ]
     },
     "metadata": {
      "needs_background": "light"
     },
     "output_type": "display_data"
    }
   ],
   "source": [
    "df.numvisit.plot(kind='hist')"
   ]
  },
  {
   "cell_type": "code",
   "execution_count": 6,
   "metadata": {},
   "outputs": [
    {
     "data": {
      "text/plain": [
       "0"
      ]
     },
     "execution_count": 6,
     "metadata": {},
     "output_type": "execute_result"
    }
   ],
   "source": [
    "df.numvisit.min()"
   ]
  },
  {
   "cell_type": "code",
   "execution_count": 7,
   "metadata": {},
   "outputs": [
    {
     "data": {
      "text/plain": [
       "360"
      ]
     },
     "execution_count": 7,
     "metadata": {},
     "output_type": "execute_result"
    }
   ],
   "source": [
    "np.sum(df.numvisit==0)"
   ]
  },
  {
   "cell_type": "markdown",
   "metadata": {},
   "source": [
    "# Fit the Model"
   ]
  },
  {
   "cell_type": "code",
   "execution_count": 8,
   "metadata": {},
   "outputs": [
    {
     "data": {
      "text/plain": [
       "<matplotlib.collections.PathCollection at 0x121e18e10>"
      ]
     },
     "execution_count": 8,
     "metadata": {},
     "output_type": "execute_result"
    },
    {
     "data": {
      "image/png": "[encoded data removed]",
      "text/plain": [
       "<Figure size 432x288 with 1 Axes>"
      ]
     },
     "metadata": {
      "needs_background": "light"
     },
     "output_type": "display_data"
    }
   ],
   "source": [
    "numvisit = df.numvisit.values\n",
    "age = df.age.values\n",
    "badh = df.badh.values\n",
    "plt.scatter(age[(badh==0) & (numvisit>0)], np.log(numvisit[(badh==0) & (numvisit>0)]))\n",
    "plt.scatter(age[(badh==1) & (numvisit>0)], np.log(numvisit[(badh==1) & (numvisit>0)]))"
   ]
  },
  {
   "cell_type": "code",
   "execution_count": 9,
   "metadata": {},
   "outputs": [
    {
     "data": {
      "text/plain": [
       "<seaborn.axisgrid.FacetGrid at 0x121e3e7b8>"
      ]
     },
     "execution_count": 9,
     "metadata": {},
     "output_type": "execute_result"
    },
    {
     "data": {
      "image/png": "[encoded data removed]",
      "text/plain": [
       "<Figure size 360x360 with 1 Axes>"
      ]
     },
     "metadata": {
      "needs_background": "light"
     },
     "output_type": "display_data"
    }
   ],
   "source": [
    "sns.catplot(x='badh', y='numvisit', kind='box', data=df)"
   ]
  },
  {
   "cell_type": "code",
   "execution_count": 10,
   "metadata": {},
   "outputs": [],
   "source": [
    "from jax import random, lax, nn\n",
    "import jax.numpy as np\n",
    "\n",
    "import numpyro\n",
    "import numpyro.diagnostics as diag\n",
    "import numpyro.distributions as dist\n",
    "from numpyro import handlers\n",
    "from numpyro.infer import MCMC, NUTS\n",
    "\n",
    "numpyro.set_host_device_count(3)\n",
    "numpyro.enable_validation()\n",
    "\n",
    "num_warmup, num_samples = 1000, 5000\n",
    "rng_key = random.PRNGKey(0)\n",
    "rng_key, rng_key_ = random.split(rng_key)"
   ]
  },
  {
   "cell_type": "markdown",
   "metadata": {},
   "source": [
    "$$\n",
    "P(k \\text{ events in interval}) = \\frac{\\lambda^k}{k!}e^{-\\lambda}\n",
    "$$"
   ]
  },
  {
   "cell_type": "code",
   "execution_count": 11,
   "metadata": {},
   "outputs": [],
   "source": [
    "def model_fn(numvisit, badh, age):\n",
    "    int_ = numpyro.sample('int', dist.Normal(0, 1e6))\n",
    "    b_badh = numpyro.sample('b_badh', dist.Normal(0, 1e4))\n",
    "    b_age = numpyro.sample('b_age', dist.Normal(0, 1e4))\n",
    "    b_itx = numpyro.sample('b_itx', dist.Normal(0, 1e4))\n",
    "    \n",
    "    # https://www.theanalysisfactor.com/count-models-understanding-the-log-link-function/\n",
    "    # https://web.stanford.edu/class/archive/stats/stats200/stats200.1172/Lecture27.pdf\n",
    "    # It is not clear why the log link does not work\n",
    "    log_lambda = int_ + b_badh*badh + b_age*age + b_itx*age*badh\n",
    "    lambda_ = np.exp(log_lambda)\n",
    "    \n",
    "    numpyro.sample('y', dist.Poisson(lambda_), obs=numvisit)"
   ]
  },
  {
   "cell_type": "code",
   "execution_count": 12,
   "metadata": {},
   "outputs": [],
   "source": [
    "kernel = NUTS(model_fn)\n",
    "model = MCMC(kernel, num_warmup, num_samples, num_chains=3)\n",
    "model.run(rng_key, collect_warmup=False, numvisit=numvisit, badh=badh, age=age)"
   ]
  },
  {
   "cell_type": "code",
   "execution_count": 13,
   "metadata": {},
   "outputs": [
    {
     "name": "stdout",
     "output_type": "stream",
     "text": [
      "\n",
      "                mean       std    median      5.0%     95.0%     n_eff     r_hat\n",
      "     b_age     -0.36      0.52      0.01     -1.11      0.01      1.50    315.19\n",
      "    b_badh      0.82      1.06      1.45     -0.67      1.75      1.52      7.96\n",
      "     b_itx     -0.18      0.24     -0.01     -0.51     -0.01      1.50     74.88\n",
      "       int      0.37      0.07      0.40      0.22      0.46      9.54      1.10\n",
      "\n",
      "Number of divergences: 4939\n"
     ]
    }
   ],
   "source": [
    "model.print_summary()"
   ]
  },
  {
   "cell_type": "code",
   "execution_count": 14,
   "metadata": {},
   "outputs": [],
   "source": [
    "samples = model.get_samples(group_by_chain=True)\n",
    "b_age = samples['b_age']\n",
    "b_badh = samples['b_badh']\n",
    "b_itx = samples['b_itx']\n",
    "_int = samples['int']"
   ]
  },
  {
   "cell_type": "code",
   "execution_count": 15,
   "metadata": {},
   "outputs": [
    {
     "data": {
      "text/plain": [
       "[[<matplotlib.lines.Line2D at 0x12a4f2278>],\n",
       " [<matplotlib.lines.Line2D at 0x12a4f23c8>],\n",
       " [<matplotlib.lines.Line2D at 0x12a4f2710>]]"
      ]
     },
     "execution_count": 15,
     "metadata": {},
     "output_type": "execute_result"
    },
    {
     "data": {
      "image/png": "[encoded data removed]",
      "text/plain": [
       "<Figure size 432x288 with 1 Axes>"
      ]
     },
     "metadata": {
      "needs_background": "light"
     },
     "output_type": "display_data"
    },
    {
     "data": {
      "image/png": "[encoded data removed]",
      "text/plain": [
       "<Figure size 432x288 with 1 Axes>"
      ]
     },
     "metadata": {
      "needs_background": "light"
     },
     "output_type": "display_data"
    },
    {
     "data": {
      "image/png": "[encoded data removed]",
      "text/plain": [
       "<Figure size 432x288 with 1 Axes>"
      ]
     },
     "metadata": {
      "needs_background": "light"
     },
     "output_type": "display_data"
    },
    {
     "data": {
      "image/png": "[encoded data removed]",
      "text/plain": [
       "<Figure size 432x288 with 1 Axes>"
      ]
     },
     "metadata": {
      "needs_background": "light"
     },
     "output_type": "display_data"
    }
   ],
   "source": [
    "[plt.plot(trace) for trace in b_age]\n",
    "plt.figure()\n",
    "[plt.plot(trace) for trace in b_badh]\n",
    "plt.figure()\n",
    "[plt.plot(trace) for trace in b_itx]\n",
    "plt.figure()\n",
    "[plt.plot(trace) for trace in _int]"
   ]
  },
  {
   "cell_type": "markdown",
   "metadata": {},
   "source": [
    "## Convergence diag"
   ]
  },
  {
   "cell_type": "code",
   "execution_count": 16,
   "metadata": {},
   "outputs": [
    {
     "name": "stdout",
     "output_type": "stream",
     "text": [
      "292.9004\n",
      "8.880449\n",
      "78.935295\n",
      "1.1220421\n"
     ]
    }
   ],
   "source": [
    "print(diag.gelman_rubin(b_age))\n",
    "print(diag.gelman_rubin(b_badh))\n",
    "print(diag.gelman_rubin(b_itx))\n",
    "print(diag.gelman_rubin(_int))"
   ]
  },
  {
   "cell_type": "code",
   "execution_count": 17,
   "metadata": {},
   "outputs": [
    {
     "name": "stdout",
     "output_type": "stream",
     "text": [
      "age\n",
      "1.0000\t0.5087\t0.0684\t-0.0015\t-0.0193\t\n",
      "1.0000\t0.9997\t0.9983\t0.9966\t0.9825\t\n",
      "1.0000\t0.5037\t0.0621\t-0.0103\t0.0089\t\n",
      "bad health\n",
      "1.0000\t0.5478\t0.0784\t0.0053\t-0.0422\t\n",
      "1.0000\t0.9943\t0.9726\t0.9475\t0.7398\t\n",
      "1.0000\t0.5859\t0.0686\t-0.0246\t0.0028\t\n",
      "itx\n",
      "1.0000\t0.5540\t0.0838\t0.0076\t-0.0323\t\n",
      "1.0000\t0.9997\t0.9983\t0.9966\t0.9825\t\n",
      "1.0000\t0.5780\t0.0737\t-0.0278\t-0.0024\t\n",
      "int\n",
      "1.0000\t0.5319\t0.0727\t0.0041\t-0.0230\t\n",
      "1.0000\t0.9980\t0.9902\t0.9802\t0.9084\t\n",
      "1.0000\t0.5201\t0.0614\t-0.0133\t0.0106\t\n"
     ]
    }
   ],
   "source": [
    "lag_idx = [0, 1, 5, 10, 50]\n",
    "print('age')\n",
    "for chain in b_age:\n",
    "    print((\"{:.4f}\\t\"*len(lag_idx)).format(*diag.autocorrelation(chain)[lag_idx]))\n",
    "print('bad health')\n",
    "for chain in b_badh:\n",
    "    print((\"{:.4f}\\t\"*len(lag_idx)).format(*diag.autocorrelation(chain)[lag_idx]))\n",
    "print('itx')\n",
    "for chain in b_itx:\n",
    "    print((\"{:.4f}\\t\"*len(lag_idx)).format(*diag.autocorrelation(chain)[lag_idx]))\n",
    "print('int')\n",
    "for chain in _int:\n",
    "    print((\"{:.4f}\\t\"*len(lag_idx)).format(*diag.autocorrelation(chain)[lag_idx]))    "
   ]
  },
  {
   "cell_type": "markdown",
   "metadata": {},
   "source": [
    "## DIC"
   ]
  },
  {
   "cell_type": "code",
   "execution_count": 18,
   "metadata": {},
   "outputs": [],
   "source": [
    "def dic(model_fn, samples, **kwargs):\n",
    "    pi_theta = numpyro.infer.log_likelihood(model_fn, samples, **kwargs)['y'].sum(axis=1)\n",
    "    D_bar = -2 * pi_theta.mean(axis=0)\n",
    "    theta_star = {k: v.mean(axis=0, keepdims=True) for k, v in samples.items()}\n",
    "    pi_theta_star = numpyro.infer.log_likelihood(model_fn, theta_star, **kwargs)['y'].sum()\n",
    "    D_theta_star = -2 * pi_theta_star\n",
    "    print('expected deviance:', D_bar)\n",
    "    print('effective number of parameters:', D_bar - D_theta_star)\n",
    "    print('DIC:', D_bar - D_theta_star + D_bar)"
   ]
  },
  {
   "cell_type": "code",
   "execution_count": 19,
   "metadata": {},
   "outputs": [
    {
     "name": "stdout",
     "output_type": "stream",
     "text": [
      "expected deviance: nan\n",
      "effective number of parameters: nan\n",
      "DIC: nan\n"
     ]
    }
   ],
   "source": [
    "samples = model.get_samples(group_by_chain=False)\n",
    "dic(model_fn, samples, numvisit=numvisit, badh=badh, age=age)"
   ]
  },
  {
   "cell_type": "markdown",
   "metadata": {},
   "source": [
    "## Residuals"
   ]
  },
  {
   "cell_type": "code",
   "execution_count": 20,
   "metadata": {},
   "outputs": [],
   "source": [
    "X = df.values[:, 1:]"
   ]
  },
  {
   "cell_type": "code",
   "execution_count": 21,
   "metadata": {},
   "outputs": [],
   "source": [
    "X = np.hstack([X, X.prod(axis=1, keepdims=True)])"
   ]
  },
  {
   "cell_type": "code",
   "execution_count": 22,
   "metadata": {},
   "outputs": [
    {
     "data": {
      "text/plain": [
       "DeviceArray([[ 0, 58,  0],\n",
       "             [ 0, 54,  0],\n",
       "             [ 0, 44,  0],\n",
       "             [ 0, 57,  0],\n",
       "             [ 0, 33,  0]], dtype=int32)"
      ]
     },
     "execution_count": 22,
     "metadata": {},
     "output_type": "execute_result"
    }
   ],
   "source": [
    "X[:5]"
   ]
  },
  {
   "cell_type": "code",
   "execution_count": 23,
   "metadata": {},
   "outputs": [
    {
     "data": {
      "text/plain": [
       "DeviceArray([[ 1, 44, 44],\n",
       "             [ 1, 46, 46],\n",
       "             [ 1, 46, 46],\n",
       "             [ 1, 60, 60],\n",
       "             [ 1, 50, 50]], dtype=int32)"
      ]
     },
     "execution_count": 23,
     "metadata": {},
     "output_type": "execute_result"
    }
   ],
   "source": [
    "X[-5:]"
   ]
  },
  {
   "cell_type": "code",
   "execution_count": 24,
   "metadata": {},
   "outputs": [],
   "source": [
    "W = np.vstack([samples['b_badh'], samples['b_age'], samples['b_itx']])\n",
    "_int = samples['int']\n",
    "W_median = np.median(W, axis=1, keepdims=True)\n",
    "_int_median = np.median(_int)"
   ]
  },
  {
   "cell_type": "code",
   "execution_count": null,
   "metadata": {},
   "outputs": [],
   "source": []
  },
  {
   "cell_type": "code",
   "execution_count": 25,
   "metadata": {},
   "outputs": [],
   "source": [
    "# lam_hat = np.exp(X @ W + _int_median).squeeze()\n",
    "lam_hat = np.exp(X @ W_median + _int_median).squeeze()"
   ]
  },
  {
   "cell_type": "code",
   "execution_count": 26,
   "metadata": {},
   "outputs": [],
   "source": [
    "resid = df.numvisit.values - lam_hat"
   ]
  },
  {
   "cell_type": "code",
   "execution_count": 27,
   "metadata": {},
   "outputs": [
    {
     "data": {
      "text/plain": [
       "[<matplotlib.lines.Line2D at 0x11fb67978>]"
      ]
     },
     "execution_count": 27,
     "metadata": {},
     "output_type": "execute_result"
    },
    {
     "data": {
      "image/png": "[encoded data removed]",
      "text/plain": [
       "<Figure size 432x288 with 1 Axes>"
      ]
     },
     "metadata": {
      "needs_background": "light"
     },
     "output_type": "display_data"
    }
   ],
   "source": [
    "plt.plot(resid, '.')"
   ]
  },
  {
   "cell_type": "code",
   "execution_count": 28,
   "metadata": {},
   "outputs": [
    {
     "data": {
      "text/plain": [
       "[<matplotlib.lines.Line2D at 0x12b889e80>]"
      ]
     },
     "execution_count": 28,
     "metadata": {},
     "output_type": "execute_result"
    },
    {
     "data": {
      "image/png": "[encoded data removed]",
      "text/plain": [
       "<Figure size 432x288 with 1 Axes>"
      ]
     },
     "metadata": {
      "needs_background": "light"
     },
     "output_type": "display_data"
    }
   ],
   "source": [
    "plt.plot(lam_hat[badh==0], resid[badh==0], '.')\n",
    "plt.plot(lam_hat[badh==1], resid[badh==1], '.')"
   ]
  },
  {
   "cell_type": "code",
   "execution_count": 29,
   "metadata": {},
   "outputs": [],
   "source": [
    "x1 = np.array([[0, 35, 0]])\n",
    "x2 = np.array([[1, 35, 35]])"
   ]
  },
  {
   "cell_type": "code",
   "execution_count": 30,
   "metadata": {},
   "outputs": [],
   "source": [
    "lam1 = np.exp(x1 @ W + _int).squeeze()"
   ]
  },
  {
   "cell_type": "code",
   "execution_count": 31,
   "metadata": {},
   "outputs": [],
   "source": [
    "lam2 = np.exp(x2 @ W + _int).squeeze()"
   ]
  },
  {
   "cell_type": "code",
   "execution_count": 32,
   "metadata": {},
   "outputs": [
    {
     "data": {
      "text/plain": [
       "<matplotlib.axes._subplots.AxesSubplot at 0x12bb8d780>"
      ]
     },
     "execution_count": 32,
     "metadata": {},
     "output_type": "execute_result"
    },
    {
     "data": {
      "image/png": "[encoded data removed]",
      "text/plain": [
       "<Figure size 432x288 with 1 Axes>"
      ]
     },
     "metadata": {
      "needs_background": "light"
     },
     "output_type": "display_data"
    }
   ],
   "source": [
    "sns.distplot(lam1, hist=False)\n",
    "# sns.distplot(lam2, hist=False)"
   ]
  },
  {
   "cell_type": "code",
   "execution_count": 33,
   "metadata": {},
   "outputs": [],
   "source": [
    "y1 = numpyro.sample('y1', dist.Poisson(lam1), rng_key=rng_key)\n",
    "y2 = numpyro.sample('y2', dist.Poisson(lam2), rng_key=rng_key)"
   ]
  },
  {
   "cell_type": "code",
   "execution_count": 34,
   "metadata": {},
   "outputs": [
    {
     "data": {
      "text/plain": [
       "<matplotlib.axes._subplots.AxesSubplot at 0x12bc264e0>"
      ]
     },
     "execution_count": 34,
     "metadata": {},
     "output_type": "execute_result"
    },
    {
     "data": {
      "image/png": "[encoded data removed]",
      "text/plain": [
       "<Figure size 432x288 with 1 Axes>"
      ]
     },
     "metadata": {
      "needs_background": "light"
     },
     "output_type": "display_data"
    }
   ],
   "source": [
    "sns.distplot(y1, kde=False, norm_hist=True)\n",
    "sns.distplot(y2, kde=False, norm_hist=True)"
   ]
  },
  {
   "cell_type": "code",
   "execution_count": 35,
   "metadata": {},
   "outputs": [
    {
     "data": {
      "text/plain": [
       "DeviceArray(0.65653336, dtype=float32)"
      ]
     },
     "execution_count": 35,
     "metadata": {},
     "output_type": "execute_result"
    }
   ],
   "source": [
    "np.mean(y2 > y1)"
   ]
  },
  {
   "cell_type": "code",
   "execution_count": 36,
   "metadata": {},
   "outputs": [],
   "source": [
    "val1, count1 = onp.unique(y1, return_counts=True)\n",
    "val2, count2 = onp.unique(y2, return_counts=True)"
   ]
  },
  {
   "cell_type": "code",
   "execution_count": 37,
   "metadata": {},
   "outputs": [
    {
     "data": {
      "text/plain": [
       "<BarContainer object of 20 artists>"
      ]
     },
     "execution_count": 37,
     "metadata": {},
     "output_type": "execute_result"
    },
    {
     "data": {
      "image/png": "[encoded data removed]",
      "text/plain": [
       "<Figure size 432x288 with 1 Axes>"
      ]
     },
     "metadata": {
      "needs_background": "light"
     },
     "output_type": "display_data"
    }
   ],
   "source": [
    "plt.bar(val1, count1/count1.sum(), alpha=.5)\n",
    "plt.bar(val2, count2/count2.sum(), alpha=.5)"
   ]
  },
  {
   "cell_type": "code",
   "execution_count": null,
   "metadata": {},
   "outputs": [],
   "source": []
  },
  {
   "cell_type": "code",
   "execution_count": null,
   "metadata": {},
   "outputs": [],
   "source": []
  }
 ],
 "metadata": {
  "kernelspec": {
   "display_name": "Python 3",
   "language": "python",
   "name": "python3"
  },
  "language_info": {
   "codemirror_mode": {
    "name": "ipython",
    "version": 3
   },
   "file_extension": ".py",
   "mimetype": "text/x-python",
   "name": "python",
   "nbconvert_exporter": "python",
   "pygments_lexer": "ipython3",
   "version": "3.6.8"
  }
 },
 "nbformat": 4,
 "nbformat_minor": 2
}
