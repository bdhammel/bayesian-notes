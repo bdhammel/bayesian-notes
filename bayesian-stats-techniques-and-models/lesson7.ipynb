{
 "cells": [
  {
   "cell_type": "markdown",
   "metadata": {},
   "source": [
    "# Lesson 7: Linear Regression\n",
    "\n",
    "Fit a linear model to the Leinhardt dataset to find the corrilation between country income and infant mortatlity\n",
    "\n",
    "This follows lessons here:\n",
    " - https://www.coursera.org/learn/mcmc-bayesian-statistics/lecture/z1Aap/setup-in-r\n",
    " - https://www.coursera.org/learn/mcmc-bayesian-statistics/lecture/fZngw/jags-model-linear-regression\n",
    " - https://www.coursera.org/learn/mcmc-bayesian-statistics/lecture/pAJNW/model-checking"
   ]
  },
  {
   "cell_type": "code",
   "execution_count": 50,
   "metadata": {},
   "outputs": [],
   "source": [
    "# Download the data from here: \n",
    "# https://cran.r-project.org/web/packages/carData/index.html\n",
    "\n",
    "# read in R data files\n",
    "# https://github.com/ofajardo/pyreadr\n",
    "import pyreadr\n",
    "\n",
    "result = pyreadr.read_r('./data/Leinhardt.rda')\n",
    "df = result['Leinhardt']\n",
    "df.dropna(inplace=True)"
   ]
  },
  {
   "cell_type": "code",
   "execution_count": 3,
   "metadata": {},
   "outputs": [
    {
     "data": {
      "image/png": "[encoded data removed]",
      "text/plain": [
       "<Figure size 432x288 with 1 Axes>"
      ]
     },
     "metadata": {
      "needs_background": "light"
     },
     "output_type": "display_data"
    }
   ],
   "source": [
    "log_infant = np.log(df.infant.values)\n",
    "log_income = np.log(df.income.values)\n",
    "plt.plot(log_income, log_infant, '.')\n",
    "plt.xlabel('log(income)')\n",
    "plt.ylabel('log(infant mortality %)')\n",
    "\n",
    "plt.grid(b='both', which='both');"
   ]
  },
  {
   "cell_type": "markdown",
   "metadata": {},
   "source": [
    "## Modeling"
   ]
  },
  {
   "cell_type": "markdown",
   "metadata": {},
   "source": [
    "### Linear model"
   ]
  },
  {
   "cell_type": "code",
   "execution_count": 4,
   "metadata": {},
   "outputs": [],
   "source": [
    "from sklearn.linear_model import LinearRegression"
   ]
  },
  {
   "cell_type": "code",
   "execution_count": 5,
   "metadata": {},
   "outputs": [],
   "source": [
    "lmod = LinearRegression().fit(log_infant.reshape(-1, 1), log_income.reshape(-1, 1))"
   ]
  },
  {
   "cell_type": "code",
   "execution_count": 6,
   "metadata": {},
   "outputs": [],
   "source": [
    "r_sqd = lmod.score(log_infant.reshape(-1, 1), log_income.reshape(-1, 1))"
   ]
  },
  {
   "cell_type": "code",
   "execution_count": 7,
   "metadata": {},
   "outputs": [
    {
     "data": {
      "text/plain": [
       "array([10.01518246])"
      ]
     },
     "execution_count": 7,
     "metadata": {},
     "output_type": "execute_result"
    }
   ],
   "source": [
    "lmod.intercept_"
   ]
  },
  {
   "cell_type": "code",
   "execution_count": 8,
   "metadata": {},
   "outputs": [
    {
     "data": {
      "text/plain": [
       "array([[-0.98110443]])"
      ]
     },
     "execution_count": 8,
     "metadata": {},
     "output_type": "execute_result"
    }
   ],
   "source": [
    "lmod.coef_"
   ]
  },
  {
   "cell_type": "code",
   "execution_count": 9,
   "metadata": {},
   "outputs": [
    {
     "data": {
      "text/plain": [
       "0.50212361972335"
      ]
     },
     "execution_count": 9,
     "metadata": {},
     "output_type": "execute_result"
    }
   ],
   "source": [
    "r_sqd"
   ]
  },
  {
   "cell_type": "markdown",
   "metadata": {},
   "source": [
    "### Baysean Monte Carlo"
   ]
  },
  {
   "cell_type": "code",
   "execution_count": 25,
   "metadata": {},
   "outputs": [],
   "source": [
    "from jax import random\n",
    "import jax.numpy as np  # We need the CUDA mirror of numpy (even if we're on a CPU)\n",
    "\n",
    "import numpyro\n",
    "import numpyro.diagnostics as diag\n",
    "import numpyro.distributions as dist\n",
    "from numpyro import handlers\n",
    "from numpyro.infer import MCMC, NUTS\n",
    "\n",
    "numpyro.set_host_device_count(3)  # Run mcmc in parallel\n",
    "numpyro.enable_validation()  # Let pyro alert me to potential problems"
   ]
  },
  {
   "cell_type": "code",
   "execution_count": 26,
   "metadata": {},
   "outputs": [],
   "source": [
    "def mod1(log_income, log_infant):\n",
    "    # define priors\n",
    "    b1 = numpyro.sample('b1', dist.Normal(0, 1e6))\n",
    "    b2 = numpyro.sample('b2', dist.Normal(0, 1e6))\n",
    "\n",
    "    std2 = numpyro.sample('std2', dist.InverseGamma(2.5, 2.5 * 10))\n",
    "    std = np.sqrt(std2)\n",
    "\n",
    "    # define liklihood\n",
    "    mu = b1 + b2*log_income\n",
    "    y = numpyro.sample('y', dist.Normal(mu, std), obs=log_infant)"
   ]
  },
  {
   "cell_type": "code",
   "execution_count": 27,
   "metadata": {},
   "outputs": [],
   "source": [
    "num_warmup, num_samples = 1000, 5000\n",
    "rng_key = random.PRNGKey(0)\n",
    "rng_key, rng_key_ = random.split(rng_key)"
   ]
  },
  {
   "cell_type": "code",
   "execution_count": 28,
   "metadata": {},
   "outputs": [
    {
     "name": "stdout",
     "output_type": "stream",
     "text": [
      "\n",
      "                mean       std    median      5.0%     95.0%     n_eff     r_hat\n",
      "        b1      7.15      0.44      7.15      6.42      7.85   4563.30      1.00\n",
      "        b2     -0.51      0.07     -0.51     -0.63     -0.40   4580.29      1.00\n",
      "      std2      0.95      0.13      0.94      0.73      1.16   6255.94      1.00\n",
      "\n",
      "Number of divergences: 0\n"
     ]
    }
   ],
   "source": [
    "kernel = NUTS(mod1)\n",
    "mcmc = MCMC(kernel, num_warmup, num_samples, num_chains=3)\n",
    "mcmc.run(rng_key, collect_warmup=False, log_income=log_income, log_infant=log_infant, )\n",
    "mcmc.print_summary()"
   ]
  },
  {
   "cell_type": "code",
   "execution_count": 29,
   "metadata": {},
   "outputs": [],
   "source": [
    "samples_1 = mcmc.get_samples()"
   ]
  },
  {
   "cell_type": "code",
   "execution_count": 30,
   "metadata": {},
   "outputs": [],
   "source": [
    "mod1_b1 = samples_1['b1'].reshape(3, -1)\n",
    "mod1_b2 = samples_1['b2'].reshape(3, -1)\n",
    "mod1_std2 = samples_1['std2'].reshape(3, -1)"
   ]
  },
  {
   "cell_type": "code",
   "execution_count": 31,
   "metadata": {},
   "outputs": [
    {
     "data": {
      "text/plain": [
       "Text(0, 0.5, 'std2')"
      ]
     },
     "execution_count": 31,
     "metadata": {},
     "output_type": "execute_result"
    },
    {
     "data": {
      "image/png": "[encoded data removed]",
      "text/plain": [
       "<Figure size 432x288 with 3 Axes>"
      ]
     },
     "metadata": {
      "needs_background": "light"
     },
     "output_type": "display_data"
    }
   ],
   "source": [
    "fig, axs = plt.subplots(3, 1, sharex=True)\n",
    "[axs[0].plot(chain, alpha=.5) for chain in mod1_b1]\n",
    "axs[0].set_ylabel('b1')\n",
    "[axs[1].plot(chain, alpha=.5) for chain in mod1_b2]\n",
    "axs[1].set_ylabel('b2')\n",
    "[axs[2].plot(chain, alpha=.5) for chain in mod1_std2]\n",
    "axs[2].set_ylabel('std2');"
   ]
  },
  {
   "cell_type": "markdown",
   "metadata": {},
   "source": [
    "## Convergence"
   ]
  },
  {
   "cell_type": "code",
   "execution_count": 32,
   "metadata": {},
   "outputs": [
    {
     "data": {
      "text/plain": [
       "1.0001884"
      ]
     },
     "execution_count": 32,
     "metadata": {},
     "output_type": "execute_result"
    }
   ],
   "source": [
    "diag.gelman_rubin(mod1_b1)"
   ]
  },
  {
   "cell_type": "code",
   "execution_count": 33,
   "metadata": {},
   "outputs": [
    {
     "data": {
      "text/plain": [
       "1.0001829"
      ]
     },
     "execution_count": 33,
     "metadata": {},
     "output_type": "execute_result"
    }
   ],
   "source": [
    "diag.gelman_rubin(mod1_b2)"
   ]
  },
  {
   "cell_type": "code",
   "execution_count": 34,
   "metadata": {},
   "outputs": [
    {
     "data": {
      "text/plain": [
       "1.0001044"
      ]
     },
     "execution_count": 34,
     "metadata": {},
     "output_type": "execute_result"
    }
   ],
   "source": [
    "diag.gelman_rubin(mod1_std2)"
   ]
  },
  {
   "cell_type": "markdown",
   "metadata": {},
   "source": [
    "### Auto Correlation"
   ]
  },
  {
   "cell_type": "code",
   "execution_count": 60,
   "metadata": {},
   "outputs": [],
   "source": [
    "lag_idx = [0, 1, 5, 10, 50]"
   ]
  },
  {
   "cell_type": "code",
   "execution_count": 66,
   "metadata": {},
   "outputs": [
    {
     "data": {
      "text/plain": [
       "array([[ 1.00000000e+00,  4.91611880e-01,  5.76008523e-02,\n",
       "         6.19998225e-04,  1.37903767e-02],\n",
       "       [ 1.00000000e+00,  5.19166369e-01,  2.34235932e-02,\n",
       "        -1.31431015e-02, -4.45653492e-02],\n",
       "       [ 1.00000000e+00,  5.54168135e-01,  4.53391732e-02,\n",
       "        -1.16576768e-02, -5.35732124e-03]])"
      ]
     },
     "execution_count": 66,
     "metadata": {},
     "output_type": "execute_result"
    }
   ],
   "source": [
    "diag.autocorrelation(mod1_b1, axis=1)[:, lag_idx]"
   ]
  },
  {
   "cell_type": "code",
   "execution_count": 65,
   "metadata": {},
   "outputs": [
    {
     "data": {
      "text/plain": [
       "array([[ 1.        ,  0.49183176,  0.05787461,  0.00667721,  0.01946086],\n",
       "       [ 1.        ,  0.51600162,  0.02232307, -0.01927623, -0.04279028],\n",
       "       [ 1.        ,  0.55391024,  0.04161856, -0.01011605, -0.00255354]])"
      ]
     },
     "execution_count": 65,
     "metadata": {},
     "output_type": "execute_result"
    }
   ],
   "source": [
    "diag.autocorrelation(mod1_b2, axis=1)[:, lag_idx]"
   ]
  },
  {
   "cell_type": "code",
   "execution_count": 64,
   "metadata": {},
   "outputs": [
    {
     "data": {
      "text/plain": [
       "array([[ 1.        ,  0.45362977,  0.03945353, -0.00852252, -0.01116697],\n",
       "       [ 1.        ,  0.39714965, -0.01105182, -0.00485601, -0.01181986],\n",
       "       [ 1.        ,  0.33388487,  0.02349229, -0.02146206, -0.02071139]])"
      ]
     },
     "execution_count": 64,
     "metadata": {},
     "output_type": "execute_result"
    }
   ],
   "source": [
    "diag.autocorrelation(mod1_std2, axis=1)[:, lag_idx]"
   ]
  },
  {
   "cell_type": "markdown",
   "metadata": {},
   "source": [
    "### Effective sample\n",
    "\n",
    "Effective sample size appears to be much higher than in the lesson. Maybe this is due to using the NUTS Kernel - a more effective sampling method?"
   ]
  },
  {
   "cell_type": "code",
   "execution_count": 38,
   "metadata": {},
   "outputs": [],
   "source": [
    "# import original numpy\n",
    "# We need to do this because `effective_sample_size` modifies the array, and a Jax array is immutable\n",
    "import numpy as onp"
   ]
  },
  {
   "cell_type": "code",
   "execution_count": 39,
   "metadata": {},
   "outputs": [
    {
     "data": {
      "text/plain": [
       "4563.299240263115"
      ]
     },
     "execution_count": 39,
     "metadata": {},
     "output_type": "execute_result"
    }
   ],
   "source": [
    "diag.effective_sample_size(onp.array(mod1_b1))"
   ]
  },
  {
   "cell_type": "code",
   "execution_count": 40,
   "metadata": {},
   "outputs": [
    {
     "data": {
      "text/plain": [
       "4580.288774933511"
      ]
     },
     "execution_count": 40,
     "metadata": {},
     "output_type": "execute_result"
    }
   ],
   "source": [
    "diag.effective_sample_size(onp.array(mod1_b2))"
   ]
  },
  {
   "cell_type": "code",
   "execution_count": 41,
   "metadata": {},
   "outputs": [
    {
     "data": {
      "text/plain": [
       "6255.943935951417"
      ]
     },
     "execution_count": 41,
     "metadata": {},
     "output_type": "execute_result"
    }
   ],
   "source": [
    "diag.effective_sample_size(onp.array(mod1_std2))"
   ]
  },
  {
   "cell_type": "markdown",
   "metadata": {},
   "source": [
    "## Residuales"
   ]
  },
  {
   "cell_type": "code",
   "execution_count": 77,
   "metadata": {},
   "outputs": [],
   "source": [
    "b1_mean = samples_1['b1'].mean()\n",
    "b2_mean = samples_1['b2'].mean()\n",
    "sig = samples_1['std2'].mean()"
   ]
  },
  {
   "cell_type": "code",
   "execution_count": 79,
   "metadata": {},
   "outputs": [],
   "source": [
    "y_hat = b1_mean + b2_mean * log_income"
   ]
  },
  {
   "cell_type": "code",
   "execution_count": 82,
   "metadata": {},
   "outputs": [
    {
     "data": {
      "text/plain": [
       "<matplotlib.legend.Legend at 0x13233fe48>"
      ]
     },
     "execution_count": 82,
     "metadata": {},
     "output_type": "execute_result"
    },
    {
     "data": {
      "image/png": "[encoded data removed]",
      "text/plain": [
       "<Figure size 432x288 with 1 Axes>"
      ]
     },
     "metadata": {
      "needs_background": "light"
     },
     "output_type": "display_data"
    }
   ],
   "source": [
    "idx_order = np.argsort(log_income)  # needed for plotting the fit line\n",
    "plt.plot(log_income[idx_order], posterior_mu[idx_order], label='fit')\n",
    "plt.plot(log_income, log_infant, 'o', label='data')\n",
    "plt.xlabel('log(income)')\n",
    "plt.ylabel('log(infant mortality)')\n",
    "plt.legend();"
   ]
  },
  {
   "cell_type": "code",
   "execution_count": 88,
   "metadata": {},
   "outputs": [],
   "source": [
    "residules = log_infant - y_hat"
   ]
  },
  {
   "cell_type": "code",
   "execution_count": 89,
   "metadata": {},
   "outputs": [
    {
     "data": {
      "text/plain": [
       "[<matplotlib.lines.Line2D at 0x13539bd30>]"
      ]
     },
     "execution_count": 89,
     "metadata": {},
     "output_type": "execute_result"
    },
    {
     "data": {
      "image/png": "[encoded data removed]",
      "text/plain": [
       "<Figure size 432x288 with 1 Axes>"
      ]
     },
     "metadata": {
      "needs_background": "light"
     },
     "output_type": "display_data"
    }
   ],
   "source": [
    "plt.plot(residules, '.');"
   ]
  },
  {
   "cell_type": "code",
   "execution_count": 92,
   "metadata": {},
   "outputs": [
    {
     "data": {
      "text/plain": [
       "[<matplotlib.lines.Line2D at 0x135577978>]"
      ]
     },
     "execution_count": 92,
     "metadata": {},
     "output_type": "execute_result"
    },
    {
     "data": {
      "image/png": "[encoded data removed]",
      "text/plain": [
       "<Figure size 432x288 with 1 Axes>"
      ]
     },
     "metadata": {
      "needs_background": "light"
     },
     "output_type": "display_data"
    }
   ],
   "source": [
    "plt.plot(y_hat, residules, '.');"
   ]
  },
  {
   "cell_type": "code",
   "execution_count": 94,
   "metadata": {},
   "outputs": [
    {
     "data": {
      "image/png": "[encoded data removed]",
      "text/plain": [
       "<Figure size 432x288 with 1 Axes>"
      ]
     },
     "metadata": {
      "needs_background": "light"
     },
     "output_type": "display_data"
    }
   ],
   "source": [
    "import scipy.stats as stats\n",
    "\n",
    "stats.probplot(residules, dist=\"norm\", plot=plt);"
   ]
  }
 ],
 "metadata": {
  "kernelspec": {
   "display_name": "Python 3",
   "language": "python",
   "name": "python3"
  },
  "language_info": {
   "codemirror_mode": {
    "name": "ipython",
    "version": 3
   },
   "file_extension": ".py",
   "mimetype": "text/x-python",
   "name": "python",
   "nbconvert_exporter": "python",
   "pygments_lexer": "ipython3",
   "version": "3.6.8"
  }
 },
 "nbformat": 4,
 "nbformat_minor": 2
}
